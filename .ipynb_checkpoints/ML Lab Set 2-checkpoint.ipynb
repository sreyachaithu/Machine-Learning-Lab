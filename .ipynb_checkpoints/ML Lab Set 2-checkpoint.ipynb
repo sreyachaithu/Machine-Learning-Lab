{
 "cells": [
  {
   "cell_type": "raw",
   "metadata": {},
   "source": [
    "## ML Lab External Exam - SET 2\n",
    "## Name:\n",
    "## ID:\n",
    "## Class:"
   ]
  },
  {
   "cell_type": "markdown",
   "metadata": {},
   "source": []
  },
  {
   "cell_type": "code",
   "execution_count": null,
   "metadata": {},
   "outputs": [],
   "source": []
  },
  {
   "cell_type": "code",
   "execution_count": null,
   "metadata": {},
   "outputs": [],
   "source": []
  },
  {
   "cell_type": "code",
   "execution_count": null,
   "metadata": {},
   "outputs": [],
   "source": []
  },
  {
   "cell_type": "code",
   "execution_count": null,
   "metadata": {},
   "outputs": [],
   "source": [
    "c4_b200874"
   ]
  },
  {
   "cell_type": "markdown",
   "metadata": {},
   "source": [
    "## Dataset Description"
   ]
  },
  {
   "cell_type": "markdown",
   "metadata": {},
   "source": [
    "<b>Data Set Information:</b>\n",
    "\n",
    "Car Evaluation dataset evaluates cars according to the following concepts\n",
    "<ul>\n",
    "<li><b>buying</b> - buying price\n",
    "<li><b>maint</b> - price of the maintenance\n",
    "<li><b>COMFORT</b> - comfort\n",
    "<li><b>doors</b> - number of doors\n",
    "<li><b>persons</b> - capacity in terms of persons to carry\n",
    "<li><b>lug_boot</b> - the size of luggage boot\n",
    "<li><b>safety</b> - estimated safety of the car\n",
    "</ul>\n",
    "\n",
    "\n",
    "<b>Car Acceptance(Output Class):</b>\n",
    "unacc, acc, good, vgood \n",
    "\n",
    "from the given data you need to buid machine learnig model for Car Acceptance "
   ]
  },
  {
   "cell_type": "code",
   "execution_count": 104,
   "metadata": {},
   "outputs": [],
   "source": [
    "# Import necessary libraries\n",
    "import pandas as pd\n"
   ]
  },
  {
   "cell_type": "code",
   "execution_count": 105,
   "metadata": {
    "scrolled": true
   },
   "outputs": [
    {
     "data": {
      "text/html": [
       "<div>\n",
       "<style scoped>\n",
       "    .dataframe tbody tr th:only-of-type {\n",
       "        vertical-align: middle;\n",
       "    }\n",
       "\n",
       "    .dataframe tbody tr th {\n",
       "        vertical-align: top;\n",
       "    }\n",
       "\n",
       "    .dataframe thead th {\n",
       "        text-align: right;\n",
       "    }\n",
       "</style>\n",
       "<table border=\"1\" class=\"dataframe\">\n",
       "  <thead>\n",
       "    <tr style=\"text-align: right;\">\n",
       "      <th></th>\n",
       "      <th>buying</th>\n",
       "      <th>maint</th>\n",
       "      <th>doors</th>\n",
       "      <th>persons</th>\n",
       "      <th>lug_boot</th>\n",
       "      <th>safety</th>\n",
       "      <th>car_acceptability</th>\n",
       "    </tr>\n",
       "  </thead>\n",
       "  <tbody>\n",
       "    <tr>\n",
       "      <th>0</th>\n",
       "      <td>vhigh</td>\n",
       "      <td>vhigh</td>\n",
       "      <td>2</td>\n",
       "      <td>2</td>\n",
       "      <td>small</td>\n",
       "      <td>low</td>\n",
       "      <td>unacc</td>\n",
       "    </tr>\n",
       "    <tr>\n",
       "      <th>1</th>\n",
       "      <td>vhigh</td>\n",
       "      <td>vhigh</td>\n",
       "      <td>2</td>\n",
       "      <td>2</td>\n",
       "      <td>small</td>\n",
       "      <td>med</td>\n",
       "      <td>unacc</td>\n",
       "    </tr>\n",
       "    <tr>\n",
       "      <th>2</th>\n",
       "      <td>vhigh</td>\n",
       "      <td>vhigh</td>\n",
       "      <td>2</td>\n",
       "      <td>2</td>\n",
       "      <td>small</td>\n",
       "      <td>high</td>\n",
       "      <td>unacc</td>\n",
       "    </tr>\n",
       "    <tr>\n",
       "      <th>3</th>\n",
       "      <td>NaN</td>\n",
       "      <td>vhigh</td>\n",
       "      <td>2</td>\n",
       "      <td>2</td>\n",
       "      <td>med</td>\n",
       "      <td>low</td>\n",
       "      <td>unacc</td>\n",
       "    </tr>\n",
       "    <tr>\n",
       "      <th>4</th>\n",
       "      <td>vhigh</td>\n",
       "      <td>NaN</td>\n",
       "      <td>2</td>\n",
       "      <td>2</td>\n",
       "      <td>med</td>\n",
       "      <td>med</td>\n",
       "      <td>unacc</td>\n",
       "    </tr>\n",
       "    <tr>\n",
       "      <th>...</th>\n",
       "      <td>...</td>\n",
       "      <td>...</td>\n",
       "      <td>...</td>\n",
       "      <td>...</td>\n",
       "      <td>...</td>\n",
       "      <td>...</td>\n",
       "      <td>...</td>\n",
       "    </tr>\n",
       "    <tr>\n",
       "      <th>1723</th>\n",
       "      <td>low</td>\n",
       "      <td>low</td>\n",
       "      <td>5more</td>\n",
       "      <td>more</td>\n",
       "      <td>med</td>\n",
       "      <td>med</td>\n",
       "      <td>good</td>\n",
       "    </tr>\n",
       "    <tr>\n",
       "      <th>1724</th>\n",
       "      <td>low</td>\n",
       "      <td>low</td>\n",
       "      <td>5more</td>\n",
       "      <td>more</td>\n",
       "      <td>med</td>\n",
       "      <td>high</td>\n",
       "      <td>vgood</td>\n",
       "    </tr>\n",
       "    <tr>\n",
       "      <th>1725</th>\n",
       "      <td>low</td>\n",
       "      <td>low</td>\n",
       "      <td>5more</td>\n",
       "      <td>more</td>\n",
       "      <td>big</td>\n",
       "      <td>low</td>\n",
       "      <td>unacc</td>\n",
       "    </tr>\n",
       "    <tr>\n",
       "      <th>1726</th>\n",
       "      <td>low</td>\n",
       "      <td>low</td>\n",
       "      <td>5more</td>\n",
       "      <td>more</td>\n",
       "      <td>big</td>\n",
       "      <td>med</td>\n",
       "      <td>good</td>\n",
       "    </tr>\n",
       "    <tr>\n",
       "      <th>1727</th>\n",
       "      <td>low</td>\n",
       "      <td>low</td>\n",
       "      <td>5more</td>\n",
       "      <td>more</td>\n",
       "      <td>big</td>\n",
       "      <td>high</td>\n",
       "      <td>vgood</td>\n",
       "    </tr>\n",
       "  </tbody>\n",
       "</table>\n",
       "<p>1728 rows × 7 columns</p>\n",
       "</div>"
      ],
      "text/plain": [
       "     buying  maint  doors persons lug_boot safety car_acceptability\n",
       "0     vhigh  vhigh      2       2    small    low             unacc\n",
       "1     vhigh  vhigh      2       2    small    med             unacc\n",
       "2     vhigh  vhigh      2       2    small   high             unacc\n",
       "3       NaN  vhigh      2       2      med    low             unacc\n",
       "4     vhigh    NaN      2       2      med    med             unacc\n",
       "...     ...    ...    ...     ...      ...    ...               ...\n",
       "1723    low    low  5more    more      med    med              good\n",
       "1724    low    low  5more    more      med   high             vgood\n",
       "1725    low    low  5more    more      big    low             unacc\n",
       "1726    low    low  5more    more      big    med              good\n",
       "1727    low    low  5more    more      big   high             vgood\n",
       "\n",
       "[1728 rows x 7 columns]"
      ]
     },
     "execution_count": 105,
     "metadata": {},
     "output_type": "execute_result"
    }
   ],
   "source": [
    "#Import Dataset - set2_data.csv \n",
    "df=pd.read_csv('set2_data.csv')\n",
    "df"
   ]
  },
  {
   "cell_type": "code",
   "execution_count": 106,
   "metadata": {},
   "outputs": [
    {
     "name": "stdout",
     "output_type": "stream",
     "text": [
      "Top 5 rows:\n",
      "  buying  maint doors persons lug_boot safety car_acceptability\n",
      "0  vhigh  vhigh     2       2    small    low             unacc\n",
      "1  vhigh  vhigh     2       2    small    med             unacc\n",
      "2  vhigh  vhigh     2       2    small   high             unacc\n",
      "3    NaN  vhigh     2       2      med    low             unacc\n",
      "4  vhigh    NaN     2       2      med    med             unacc\n",
      "\n",
      "Random 5 rows:\n",
      "     buying maint  doors persons lug_boot safety car_acceptability\n",
      "1233    med   low      3    more    small    low             unacc\n",
      "592    high  high      3    more      big    med               acc\n",
      "625    high  high  5more       2      med    med             unacc\n",
      "1546    low   med      3       2      big    med             unacc\n",
      "730    high   med  5more       2    small    med             unacc\n"
     ]
    }
   ],
   "source": [
    "# Print top 5 and random 5 values - 2 Marks\n",
    "import pandas as pd\n",
    "import seaborn as sns\n",
    "\n",
    "df = pd.read_csv(\"set2_data.csv\")\n",
    "\n",
    "\n",
    "print(\"Top 5 rows:\")\n",
    "print(df.head())\n",
    "\n",
    "print(\"\\nRandom 5 rows:\")\n",
    "print(df.sample(5, random_state=1))\n"
   ]
  },
  {
   "cell_type": "code",
   "execution_count": 107,
   "metadata": {},
   "outputs": [
    {
     "data": {
      "text/html": [
       "<div>\n",
       "<style scoped>\n",
       "    .dataframe tbody tr th:only-of-type {\n",
       "        vertical-align: middle;\n",
       "    }\n",
       "\n",
       "    .dataframe tbody tr th {\n",
       "        vertical-align: top;\n",
       "    }\n",
       "\n",
       "    .dataframe thead th {\n",
       "        text-align: right;\n",
       "    }\n",
       "</style>\n",
       "<table border=\"1\" class=\"dataframe\">\n",
       "  <thead>\n",
       "    <tr style=\"text-align: right;\">\n",
       "      <th></th>\n",
       "      <th>buying</th>\n",
       "      <th>maint</th>\n",
       "      <th>doors</th>\n",
       "      <th>persons</th>\n",
       "      <th>lug_boot</th>\n",
       "      <th>safety</th>\n",
       "      <th>car_acceptability</th>\n",
       "    </tr>\n",
       "  </thead>\n",
       "  <tbody>\n",
       "    <tr>\n",
       "      <th>1723</th>\n",
       "      <td>low</td>\n",
       "      <td>low</td>\n",
       "      <td>5more</td>\n",
       "      <td>more</td>\n",
       "      <td>med</td>\n",
       "      <td>med</td>\n",
       "      <td>good</td>\n",
       "    </tr>\n",
       "    <tr>\n",
       "      <th>1724</th>\n",
       "      <td>low</td>\n",
       "      <td>low</td>\n",
       "      <td>5more</td>\n",
       "      <td>more</td>\n",
       "      <td>med</td>\n",
       "      <td>high</td>\n",
       "      <td>vgood</td>\n",
       "    </tr>\n",
       "    <tr>\n",
       "      <th>1725</th>\n",
       "      <td>low</td>\n",
       "      <td>low</td>\n",
       "      <td>5more</td>\n",
       "      <td>more</td>\n",
       "      <td>big</td>\n",
       "      <td>low</td>\n",
       "      <td>unacc</td>\n",
       "    </tr>\n",
       "    <tr>\n",
       "      <th>1726</th>\n",
       "      <td>low</td>\n",
       "      <td>low</td>\n",
       "      <td>5more</td>\n",
       "      <td>more</td>\n",
       "      <td>big</td>\n",
       "      <td>med</td>\n",
       "      <td>good</td>\n",
       "    </tr>\n",
       "    <tr>\n",
       "      <th>1727</th>\n",
       "      <td>low</td>\n",
       "      <td>low</td>\n",
       "      <td>5more</td>\n",
       "      <td>more</td>\n",
       "      <td>big</td>\n",
       "      <td>high</td>\n",
       "      <td>vgood</td>\n",
       "    </tr>\n",
       "  </tbody>\n",
       "</table>\n",
       "</div>"
      ],
      "text/plain": [
       "     buying maint  doors persons lug_boot safety car_acceptability\n",
       "1723    low   low  5more    more      med    med              good\n",
       "1724    low   low  5more    more      med   high             vgood\n",
       "1725    low   low  5more    more      big    low             unacc\n",
       "1726    low   low  5more    more      big    med              good\n",
       "1727    low   low  5more    more      big   high             vgood"
      ]
     },
     "execution_count": 107,
     "metadata": {},
     "output_type": "execute_result"
    }
   ],
   "source": [
    "df.tail(5)"
   ]
  },
  {
   "cell_type": "code",
   "execution_count": 108,
   "metadata": {},
   "outputs": [
    {
     "data": {
      "text/plain": [
       "['buying',\n",
       " 'maint',\n",
       " 'doors',\n",
       " 'persons',\n",
       " 'lug_boot',\n",
       " 'safety',\n",
       " 'car_acceptability']"
      ]
     },
     "execution_count": 108,
     "metadata": {},
     "output_type": "execute_result"
    }
   ],
   "source": [
    "#Print column names - 1 Marks\n",
    "df.columns.tolist()"
   ]
  },
  {
   "cell_type": "code",
   "execution_count": 109,
   "metadata": {},
   "outputs": [
    {
     "data": {
      "text/plain": [
       "buying               object\n",
       "maint                object\n",
       "doors                object\n",
       "persons              object\n",
       "lug_boot             object\n",
       "safety               object\n",
       "car_acceptability    object\n",
       "dtype: object"
      ]
     },
     "execution_count": 109,
     "metadata": {},
     "output_type": "execute_result"
    }
   ],
   "source": [
    "#Check the data type of each column - 1 Marks\n",
    "df.dtypes"
   ]
  },
  {
   "cell_type": "code",
   "execution_count": 110,
   "metadata": {},
   "outputs": [
    {
     "data": {
      "text/plain": [
       "(1728, 7)"
      ]
     },
     "execution_count": 110,
     "metadata": {},
     "output_type": "execute_result"
    }
   ],
   "source": [
    "#Print number of rows and columns - 1 Mark\n",
    "df.shape"
   ]
  },
  {
   "cell_type": "code",
   "execution_count": 111,
   "metadata": {},
   "outputs": [
    {
     "name": "stdout",
     "output_type": "stream",
     "text": [
      "       buying maint doors persons lug_boot safety car_acceptability\n",
      "count    1727  1726  1728    1727     1727   1727              1728\n",
      "unique      4     4     4       3        3      3                 4\n",
      "top      high  high     2       2      med    low             unacc\n",
      "freq      432   432   432     576      576    576              1210\n"
     ]
    }
   ],
   "source": [
    "#Print summary statistics of all variables - 1 Mark\n",
    "print(df.describe(include='all'))\n"
   ]
  },
  {
   "cell_type": "code",
   "execution_count": null,
   "metadata": {},
   "outputs": [],
   "source": []
  },
  {
   "cell_type": "code",
   "execution_count": 112,
   "metadata": {},
   "outputs": [
    {
     "data": {
      "text/plain": [
       "buying               1\n",
       "maint                2\n",
       "doors                0\n",
       "persons              1\n",
       "lug_boot             1\n",
       "safety               1\n",
       "car_acceptability    0\n",
       "dtype: int64"
      ]
     },
     "execution_count": 112,
     "metadata": {},
     "output_type": "execute_result"
    }
   ],
   "source": [
    "#Print the number of missing values in each column - 1 Marks\n",
    "df.isnull().sum()"
   ]
  },
  {
   "cell_type": "code",
   "execution_count": 113,
   "metadata": {},
   "outputs": [
    {
     "name": "stdout",
     "output_type": "stream",
     "text": [
      "buying               0\n",
      "maint                0\n",
      "doors                0\n",
      "persons              0\n",
      "lug_boot             0\n",
      "safety               0\n",
      "car_acceptability    0\n",
      "dtype: int64\n"
     ]
    }
   ],
   "source": [
    "#Impute missing values - Replace missing categorical values with mode and numerical values with mean of the column - 3 Marks\n",
    "#Print the number of missing values in each column after imputation\n",
    "# Impute missing values\n",
    "for col in df.columns:\n",
    "    if df[col].dtype == 'object':  # Categorical column\n",
    "        mode_val = df[col].mode()[0]\n",
    "        df[col].fillna(mode_val, inplace=True)\n",
    "        \n",
    "    else:  # Numerical column\n",
    "        mean_val = df[col].mean()\n",
    "        df[col].fillna(mean_val, inplace=True)\n",
    "\n",
    "# Print number of missing values in each column after imputation\n",
    "print(df.isnull().sum())\n"
   ]
  },
  {
   "cell_type": "code",
   "execution_count": 114,
   "metadata": {},
   "outputs": [
    {
     "data": {
      "text/plain": [
       "buying               1728\n",
       "maint                1728\n",
       "doors                1728\n",
       "persons              1728\n",
       "lug_boot             1728\n",
       "safety               1728\n",
       "car_acceptability    1728\n",
       "dtype: int64"
      ]
     },
     "execution_count": 114,
     "metadata": {},
     "output_type": "execute_result"
    }
   ],
   "source": [
    "#Print count of each class - 1 Marks\n",
    "df.count()"
   ]
  },
  {
   "cell_type": "code",
   "execution_count": 115,
   "metadata": {},
   "outputs": [
    {
     "data": {
      "image/png": "[encoded data removed]",
      "text/plain": [
       "<Figure size 600x400 with 1 Axes>"
      ]
     },
     "metadata": {},
     "output_type": "display_data"
    }
   ],
   "source": [
    "#Plot histogram of values doors column - 1 Marks \n",
    "import matplotlib.pyplot as plt\n",
    "\n",
    "# Plot histogram of the 'doors' column\n",
    "plt.figure(figsize=(6,4))\n",
    "df['doors'].value_counts().sort_index().plot(kind='bar', color='skyblue', edgecolor='black')\n",
    "plt.title('Histogram of Doors')\n",
    "plt.xlabel('Number of Doors')\n",
    "plt.ylabel('Frequency')\n",
    "plt.grid(axis='y', linestyle='--', alpha=0.7)\n",
    "plt.tight_layout()\n",
    "plt.show()\n",
    "\n",
    "\n",
    "\n",
    "\n",
    "\n",
    "\n",
    "\n",
    "\n",
    "#import matplotlib.pyplot as plt\n",
    "#plt.hist(data=df,x='doors')\n",
    "#plt.show()"
   ]
  },
  {
   "cell_type": "code",
   "execution_count": 116,
   "metadata": {},
   "outputs": [
    {
     "data": {
      "image/png": "[encoded data removed]",
      "text/plain": [
       "<Figure size 640x480 with 1 Axes>"
      ]
     },
     "metadata": {},
     "output_type": "display_data"
    }
   ],
   "source": [
    "\n",
    "import matplotlib.pyplot as plt\n",
    "plt.hist(data=df,x='doors')\n",
    "plt.show()"
   ]
  },
  {
   "cell_type": "code",
   "execution_count": 117,
   "metadata": {},
   "outputs": [],
   "source": [
    "# Plot bar of buying, maint, lug_boot, safety using 4X4 subplots - 3 Marks\n",
    "#num_bins = 10\n"
   ]
  },
  {
   "cell_type": "code",
   "execution_count": 118,
   "metadata": {},
   "outputs": [
    {
     "data": {
      "image/png": "[encoded data removed]",
      "text/plain": [
       "<Figure size 1000x800 with 4 Axes>"
      ]
     },
     "metadata": {},
     "output_type": "display_data"
    }
   ],
   "source": [
    "import matplotlib.pyplot as plt\n",
    "\n",
    "cols = ['buying', 'maint', 'lug_boot', 'safety']\n",
    "fig, axes = plt.subplots(2, 2, figsize=(10, 8))  # 2x2 layout is enough\n",
    "axes = axes.flatten()\n",
    "\n",
    "for i in range(4):\n",
    "    df[cols[i]].value_counts().plot(kind='bar', ax=axes[i])\n",
    "    axes[i].set_title(f'{cols[i]} Distribution')\n",
    "    axes[i].set_xlabel(cols[i])\n",
    "    axes[i].set_ylabel('Count')\n",
    "\n",
    "plt.tight_layout()\n",
    "plt.show()\n"
   ]
  },
  {
   "cell_type": "code",
   "execution_count": 119,
   "metadata": {},
   "outputs": [
    {
     "data": {
      "text/html": [
       "<div>\n",
       "<style scoped>\n",
       "    .dataframe tbody tr th:only-of-type {\n",
       "        vertical-align: middle;\n",
       "    }\n",
       "\n",
       "    .dataframe tbody tr th {\n",
       "        vertical-align: top;\n",
       "    }\n",
       "\n",
       "    .dataframe thead th {\n",
       "        text-align: right;\n",
       "    }\n",
       "</style>\n",
       "<table border=\"1\" class=\"dataframe\">\n",
       "  <thead>\n",
       "    <tr style=\"text-align: right;\">\n",
       "      <th></th>\n",
       "      <th>buying</th>\n",
       "      <th>maint</th>\n",
       "      <th>doors</th>\n",
       "      <th>persons</th>\n",
       "      <th>lug_boot</th>\n",
       "      <th>safety</th>\n",
       "      <th>car_acceptability</th>\n",
       "    </tr>\n",
       "  </thead>\n",
       "  <tbody>\n",
       "    <tr>\n",
       "      <th>0</th>\n",
       "      <td>vhigh</td>\n",
       "      <td>vhigh</td>\n",
       "      <td>2</td>\n",
       "      <td>2</td>\n",
       "      <td>small</td>\n",
       "      <td>low</td>\n",
       "      <td>unacc</td>\n",
       "    </tr>\n",
       "    <tr>\n",
       "      <th>1</th>\n",
       "      <td>vhigh</td>\n",
       "      <td>vhigh</td>\n",
       "      <td>2</td>\n",
       "      <td>2</td>\n",
       "      <td>small</td>\n",
       "      <td>med</td>\n",
       "      <td>unacc</td>\n",
       "    </tr>\n",
       "    <tr>\n",
       "      <th>2</th>\n",
       "      <td>vhigh</td>\n",
       "      <td>vhigh</td>\n",
       "      <td>2</td>\n",
       "      <td>2</td>\n",
       "      <td>small</td>\n",
       "      <td>high</td>\n",
       "      <td>unacc</td>\n",
       "    </tr>\n",
       "    <tr>\n",
       "      <th>3</th>\n",
       "      <td>high</td>\n",
       "      <td>vhigh</td>\n",
       "      <td>2</td>\n",
       "      <td>2</td>\n",
       "      <td>med</td>\n",
       "      <td>low</td>\n",
       "      <td>unacc</td>\n",
       "    </tr>\n",
       "    <tr>\n",
       "      <th>4</th>\n",
       "      <td>vhigh</td>\n",
       "      <td>high</td>\n",
       "      <td>2</td>\n",
       "      <td>2</td>\n",
       "      <td>med</td>\n",
       "      <td>med</td>\n",
       "      <td>unacc</td>\n",
       "    </tr>\n",
       "    <tr>\n",
       "      <th>...</th>\n",
       "      <td>...</td>\n",
       "      <td>...</td>\n",
       "      <td>...</td>\n",
       "      <td>...</td>\n",
       "      <td>...</td>\n",
       "      <td>...</td>\n",
       "      <td>...</td>\n",
       "    </tr>\n",
       "    <tr>\n",
       "      <th>1723</th>\n",
       "      <td>low</td>\n",
       "      <td>low</td>\n",
       "      <td>5</td>\n",
       "      <td>more</td>\n",
       "      <td>med</td>\n",
       "      <td>med</td>\n",
       "      <td>good</td>\n",
       "    </tr>\n",
       "    <tr>\n",
       "      <th>1724</th>\n",
       "      <td>low</td>\n",
       "      <td>low</td>\n",
       "      <td>5</td>\n",
       "      <td>more</td>\n",
       "      <td>med</td>\n",
       "      <td>high</td>\n",
       "      <td>vgood</td>\n",
       "    </tr>\n",
       "    <tr>\n",
       "      <th>1725</th>\n",
       "      <td>low</td>\n",
       "      <td>low</td>\n",
       "      <td>5</td>\n",
       "      <td>more</td>\n",
       "      <td>big</td>\n",
       "      <td>low</td>\n",
       "      <td>unacc</td>\n",
       "    </tr>\n",
       "    <tr>\n",
       "      <th>1726</th>\n",
       "      <td>low</td>\n",
       "      <td>low</td>\n",
       "      <td>5</td>\n",
       "      <td>more</td>\n",
       "      <td>big</td>\n",
       "      <td>med</td>\n",
       "      <td>good</td>\n",
       "    </tr>\n",
       "    <tr>\n",
       "      <th>1727</th>\n",
       "      <td>low</td>\n",
       "      <td>low</td>\n",
       "      <td>5</td>\n",
       "      <td>more</td>\n",
       "      <td>big</td>\n",
       "      <td>high</td>\n",
       "      <td>vgood</td>\n",
       "    </tr>\n",
       "  </tbody>\n",
       "</table>\n",
       "<p>1728 rows × 7 columns</p>\n",
       "</div>"
      ],
      "text/plain": [
       "     buying  maint doors persons lug_boot safety car_acceptability\n",
       "0     vhigh  vhigh     2       2    small    low             unacc\n",
       "1     vhigh  vhigh     2       2    small    med             unacc\n",
       "2     vhigh  vhigh     2       2    small   high             unacc\n",
       "3      high  vhigh     2       2      med    low             unacc\n",
       "4     vhigh   high     2       2      med    med             unacc\n",
       "...     ...    ...   ...     ...      ...    ...               ...\n",
       "1723    low    low     5    more      med    med              good\n",
       "1724    low    low     5    more      med   high             vgood\n",
       "1725    low    low     5    more      big    low             unacc\n",
       "1726    low    low     5    more      big    med              good\n",
       "1727    low    low     5    more      big   high             vgood\n",
       "\n",
       "[1728 rows x 7 columns]"
      ]
     },
     "execution_count": 119,
     "metadata": {},
     "output_type": "execute_result"
    }
   ],
   "source": [
    "#Replace the value 5more and more with 5 in doors column - 1 Marks\n",
    "# Replace '5more' and 'more' with '5' in the 'doors' column\n",
    "df['doors'] = df['doors'].replace({'5more': '5', 'more': '5'})\n",
    "df"
   ]
  },
  {
   "cell_type": "code",
   "execution_count": 120,
   "metadata": {},
   "outputs": [],
   "source": [
    "#Apply label encoder for categorical columns -  2 Marks\n",
    "# Apply Label Encoding\n",
    "categorical_columns = df.select_dtypes(include=['object']).columns\n",
    "for col in categorical_columns:\n",
    "    le = LabelEncoder()\n",
    "    df[col] = le.fit_transform(df[col].astype(str))"
   ]
  },
  {
   "cell_type": "code",
   "execution_count": null,
   "metadata": {},
   "outputs": [],
   "source": []
  },
  {
   "cell_type": "code",
   "execution_count": null,
   "metadata": {},
   "outputs": [],
   "source": [
    "\n"
   ]
  },
  {
   "cell_type": "code",
   "execution_count": null,
   "metadata": {},
   "outputs": [],
   "source": [
    "\n",
    "\n"
   ]
  },
  {
   "cell_type": "code",
   "execution_count": null,
   "metadata": {},
   "outputs": [],
   "source": []
  },
  {
   "cell_type": "code",
   "execution_count": 121,
   "metadata": {},
   "outputs": [
    {
     "data": {
      "text/plain": [
       "<Axes: title={'center': 'Car Acceptability Distribution'}, ylabel='count'>"
      ]
     },
     "execution_count": 121,
     "metadata": {},
     "output_type": "execute_result"
    },
    {
     "data": {
      "image/png": "[encoded data removed]",
      "text/plain": [
       "<Figure size 640x480 with 1 Axes>"
      ]
     },
     "metadata": {},
     "output_type": "display_data"
    }
   ],
   "source": [
    "#Pie chart based on Car acceptability grouping - 1 Marks\n",
    "df['car_acceptability'].value_counts().plot.pie(autopct='%1.1f%%', title='Car Acceptability Distribution')\n"
   ]
  },
  {
   "cell_type": "code",
   "execution_count": 122,
   "metadata": {},
   "outputs": [
    {
     "name": "stdout",
     "output_type": "stream",
     "text": [
      "      buying  maint  doors  persons  lug_boot  safety\n",
      "0          3      3      0        0         2       1\n",
      "1          3      3      0        0         2       2\n",
      "2          3      3      0        0         2       0\n",
      "3          0      3      0        0         1       1\n",
      "4          3      0      0        0         1       2\n",
      "...      ...    ...    ...      ...       ...     ...\n",
      "1723       1      1      3        2         1       2\n",
      "1724       1      1      3        2         1       0\n",
      "1725       1      1      3        2         0       1\n",
      "1726       1      1      3        2         0       2\n",
      "1727       1      1      3        2         0       0\n",
      "\n",
      "[1728 rows x 6 columns]\n",
      "0       2\n",
      "1       2\n",
      "2       2\n",
      "3       2\n",
      "4       2\n",
      "       ..\n",
      "1723    1\n",
      "1724    3\n",
      "1725    2\n",
      "1726    1\n",
      "1727    3\n",
      "Name: car_acceptability, Length: 1728, dtype: int64\n"
     ]
    }
   ],
   "source": [
    "#Prepare X - input matrix and y - label vector - 1 Mark\n",
    "X=df.drop(columns=['car_acceptability'])\n",
    "y=df['car_acceptability']\n",
    "print(X)\n",
    "print(y)\n"
   ]
  },
  {
   "cell_type": "code",
   "execution_count": 123,
   "metadata": {},
   "outputs": [],
   "source": [
    "# Split the data into train and test set  - use test size = 30% and random state = 4 : - 2 Marks\n",
    "from sklearn.model_selection import train_test_split\n",
    "\n",
    "X_train, X_test, y_train, y_test = train_test_split(X, y, test_size=0.3, random_state=4)\n",
    "\n"
   ]
  },
  {
   "cell_type": "code",
   "execution_count": null,
   "metadata": {},
   "outputs": [],
   "source": []
  },
  {
   "cell_type": "code",
   "execution_count": null,
   "metadata": {},
   "outputs": [],
   "source": []
  },
  {
   "cell_type": "code",
   "execution_count": null,
   "metadata": {},
   "outputs": [],
   "source": []
  },
  {
   "cell_type": "code",
   "execution_count": 124,
   "metadata": {},
   "outputs": [
    {
     "data": {
      "text/plain": [
       "buying               0\n",
       "maint                0\n",
       "doors                0\n",
       "persons              0\n",
       "lug_boot             0\n",
       "safety               0\n",
       "car_acceptability    0\n",
       "dtype: int64"
      ]
     },
     "execution_count": 124,
     "metadata": {},
     "output_type": "execute_result"
    }
   ],
   "source": [
    "# Importing decision tree classifier from sklearn library and fit the classifier on training data - 3 Marks\n",
    "#Use proper values for the depth and criterion parameters\n",
    "mis=df.select_dtypes(include=\"object\").columns\n",
    "df.dropna(subset=mis,inplace=True)\n",
    "df.isnull().sum()"
   ]
  },
  {
   "cell_type": "code",
   "execution_count": 125,
   "metadata": {},
   "outputs": [
    {
     "name": "stdout",
     "output_type": "stream",
     "text": [
      "Mean Squared Error on Test Data: 0.6876427838906517\n",
      "Predictions on Test Data:\n",
      " [1.47981432 1.50164812 1.31895089 1.70854438 1.92316234 1.56402517\n",
      " 1.90656183 1.97980578 1.58000835 1.90433938 1.63954563 1.32217796\n",
      " 1.62044349 1.36767532 1.85561495 1.77296357 1.52397733 1.72043529\n",
      " 1.14267312 1.3479018  1.20855293 1.62711925 1.92729942 1.96995701\n",
      " 1.85471844 1.81395356 1.87543411 2.00525044 1.96420639 1.8961582\n",
      " 1.23967222 1.78822973 1.93236165 1.91709549 1.54208326 1.16839696\n",
      " 1.6121542  1.85086053 1.50108484 1.28012928 1.55584399 1.41738321\n",
      " 1.552595   1.64555842 1.18432608 1.76270558 1.61660751 1.56023483\n",
      " 1.89827253 1.3020712  1.19520141 1.20409961 1.14929483 1.26959562\n",
      " 1.49021795 1.57934539 1.54753278 1.896659   1.5472536  1.30363068\n",
      " 1.91810012 1.60517734 1.89671305 1.93998797 1.19417486 1.63732318\n",
      " 1.54269217 1.84640722 1.20565909 1.95146378 1.18822455 1.89994012\n",
      " 1.52014134 1.85349219 1.18817049 1.61402149 1.81745631 1.23461\n",
      " 1.92891296 1.6095766  1.52458624 1.52364409 1.8168474  1.95747657\n",
      " 1.12896645 1.60668276 1.68181592 1.64455379 1.60006106 1.2187028\n",
      " 1.14612181 1.89003729 1.24002738 1.94538343 1.27120916 1.89676711\n",
      " 1.8490473  1.89988607 1.91643252 1.984868   1.53451099 1.68342946\n",
      " 1.53673343 1.5054841  1.55037255 1.2734316  1.58540381 1.75608388\n",
      " 1.95307732 1.34573341 1.63854943 1.70537137 1.54975522 1.14867749\n",
      " 1.20721857 1.3007909  1.47272935 1.5564529  1.64778087 1.85789145\n",
      " 1.26514231 1.5176313  1.54435976 1.74399074 1.64016296 1.50336977\n",
      " 1.66148754 1.47152502 1.75764336 1.32434635 1.37807895 1.43804482\n",
      " 1.59207957 1.47658725 1.85884202 1.17446381 1.70476246 1.80374963\n",
      " 1.95975308 1.2855788  1.25499243 1.60734573 1.70693085 1.20505018\n",
      " 1.52085837 1.17223294 1.77797174 1.83973146 1.90272585 1.67128226\n",
      " 1.34311525 1.64238541 1.39183968 1.5001427  1.8639583  1.8244653\n",
      " 1.87159813 1.49663995 1.31258294 1.63023821 1.31069373 1.81528792\n",
      " 1.86875835 1.54335514 1.22158821 1.99351246 1.93937064 1.91142436\n",
      " 1.24069877 1.6035638  1.4813738  1.52080431 1.30969753 1.85850036\n",
      " 1.26102715 1.83884337 1.83378115 1.7598658  1.86834913 1.81906985\n",
      " 1.12957536 1.66972278 1.3069118  1.32946263 1.39022615 1.16456098\n",
      " 1.57453691 1.62550572 1.88786891 1.85627791 1.18593962 1.90054903\n",
      " 1.27790684 1.52520357 1.86996267 1.22693804 1.56123945 1.89381922\n",
      " 2.02051659 1.17285028 1.88434074 1.82123823 1.16622857 1.25655191\n",
      " 1.92249095 1.8251367  1.3545235  1.52302676 1.10763344 1.80030094\n",
      " 1.64772681 1.73792389 1.64683872 1.24664908 1.14489557 1.97819224\n",
      " 1.88745969 1.57013766 1.35999494 1.53228854 1.92952187 1.93770305\n",
      " 1.4666625  1.22409826 1.80314072 1.56569277 1.45625887 1.26040981\n",
      " 1.60573219 1.24387178 1.16461504 1.96136661 1.89732196 1.14934888\n",
      " 1.70030915 1.60451437 1.85410953 1.56090622 1.55103552 1.36606179\n",
      " 1.4988624  1.45842726 1.60290084 1.87416223 1.44310705 1.94448692\n",
      " 1.56786115 1.91359274 1.62328327 1.36444825 1.68788277 1.29375998\n",
      " 1.53607047 1.93553466 1.84899324 1.61882996 1.25818737 1.77135004\n",
      " 1.19742385 1.23016511 1.89888144 1.19256132 1.92243689 1.53891025\n",
      " 1.42277867 1.49819943 1.87031783 1.18716586 1.60417271 1.83534063\n",
      " 1.31063967 1.58384433 1.23205432 1.92472182 1.89354004 1.83811792\n",
      " 1.32595988 1.72063753 1.57617237 1.20404555 1.48638196 1.52208461\n",
      " 1.35140454 1.81334465 1.51702239 1.60350975 1.68282055 1.35817917\n",
      " 1.84257124 1.7304863  1.85950499 1.30746666 1.53349286 1.33925734\n",
      " 1.30975158 1.26352877 1.92188204 1.51568803 1.43270342 1.30685775\n",
      " 1.2209793  1.57675936 1.87477114 1.6293417  1.2533789  1.83817198\n",
      " 1.27688029 1.61113607 1.46382272 1.22855157 2.04407204 1.49880834\n",
      " 1.53571531 1.1996463  1.44756036 1.46827603 1.21167188 1.77518602\n",
      " 1.95692172 2.04563152 1.31353351 1.42904775 1.86111852 1.28775561\n",
      " 1.58162189 1.88625537 1.8801666  1.6210524  1.5860752  1.49346694\n",
      " 1.30146229 1.48198271 1.86456721 1.36989777 1.31197403 2.01706791\n",
      " 1.16845102 1.57872805 1.56468814 1.48036917 1.58373622 1.24826262\n",
      " 1.30585312 1.50487519 1.29509434 1.87471708 1.27020453 1.24576099\n",
      " 1.2263207  2.03900982 1.33391594 1.34250634 1.08407799 1.72225106\n",
      " 1.33107616 1.33263564 1.90060309 1.32718613 1.78180772 1.92254501\n",
      " 1.56340784 1.69708208 1.85728254 1.81523386 2.08289365 1.64611327\n",
      " 1.2450896  1.42884552 1.79874147 1.87855306 1.34628826 1.53065309\n",
      " 1.50770655 1.59683399 1.39544129 1.95914417 1.4342629  1.86167337\n",
      " 1.66310108 1.79646496 1.75163057 2.01545437 1.62484275 1.18811643\n",
      " 1.76774842 1.67959348 1.16967726 1.22248472 1.42116513 1.35079563\n",
      " 1.77674549 1.85405547 1.64616733 1.87827389 1.88361529 1.27315242\n",
      " 1.75769742 1.66371841 1.24954292 1.86106446 1.97663277 1.58980307\n",
      " 1.46126704 1.54531033 1.2845826  2.00013416 1.9394247  1.59363905\n",
      " 1.80475426 1.56312866 1.84357586 1.10223798 1.62489681 1.88684236\n",
      " 1.81239409 1.82062932 1.38012108 1.23082807 1.17832172 1.6012873\n",
      " 1.48860441 1.27309837 1.12796182 1.19862817 1.14706396 1.41894269\n",
      " 1.59749695 1.23624546 1.31611111 1.87988742 1.23299646 1.42723198\n",
      " 1.94065094 1.6833754  1.60739978 1.28614208 1.25176536 1.26586775\n",
      " 1.47374747 1.16678343 1.79423409 1.58474084 1.84034879 1.23210837\n",
      " 1.5847949  1.98325447 1.52687116 1.54441382 1.87699358 1.62583895\n",
      " 1.82669617 1.59046604 1.85722848 1.85121569 1.9202685  1.24831667\n",
      " 1.06497586 1.62255782 1.99189892 1.18588556 1.21005835 1.28680504\n",
      " 1.95369465 1.51479152 1.52369815 1.46605359 1.74580651 1.53546156\n",
      " 1.8814469  1.85277517 2.0593382  1.8426253  1.88968214 1.30468936\n",
      " 1.18371717 1.91520628 1.93714819 1.89225974 1.53762994 1.58985713\n",
      " 1.61943887 1.8731576  1.92093147 1.7955144  1.28708422 1.22916048\n",
      " 1.83722984 1.54496867 1.94640156 1.83655845 1.59243473 1.83528657\n",
      " 1.54819574 1.12579343 1.33805302 1.47970621 1.17668626 1.32562665\n",
      " 1.92916671 1.90878427 1.26480907 1.25276999 1.11911767 1.65218012\n",
      " 1.63949157 1.64233135 1.86234476 1.25432947 1.89737602 2.00680992\n",
      " 1.61558096 1.85343814 1.31036049 1.87382057 1.62361651 1.90757995\n",
      " 1.516351   1.92410448 1.47530695]\n"
     ]
    }
   ],
   "source": [
    "#Make predictions on test data - 1 Marks\n",
    "# Training a model\n",
    "from sklearn.linear_model import LinearRegression\n",
    "from sklearn.metrics import mean_squared_error\n",
    "model = LinearRegression()\n",
    "model.fit(X_train, y_train)\n",
    "\n",
    "# Making predictions on test data\n",
    "y_pred = model.predict(X_test)\n",
    "\n",
    "# Optional: Evaluate model\n",
    "mse = mean_squared_error(y_test, y_pred)\n",
    "print(\"Mean Squared Error on Test Data:\", mse)\n",
    "\n",
    "# To view predictions\n",
    "print(\"Predictions on Test Data:\\n\", y_pred)"
   ]
  },
  {
   "cell_type": "code",
   "execution_count": 129,
   "metadata": {},
   "outputs": [
    {
     "ename": "AttributeError",
     "evalue": "'LinearRegression' object has no attribute 'predict_proba'",
     "output_type": "error",
     "traceback": [
      "\u001b[0;31m---------------------------------------------------------------------------\u001b[0m",
      "\u001b[0;31mAttributeError\u001b[0m                            Traceback (most recent call last)",
      "Cell \u001b[0;32mIn[129], line 1\u001b[0m\n\u001b[0;32m----> 1\u001b[0m y_pred \u001b[38;5;241m=\u001b[39m model\u001b[38;5;241m.\u001b[39mpredict_proba(X_test)  \u001b[38;5;66;03m# or model.decision_function(X_test)\u001b[39;00m\n\u001b[1;32m      2\u001b[0m y_pred \u001b[38;5;241m=\u001b[39m model\u001b[38;5;241m.\u001b[39mpredict(X_test)\n\u001b[1;32m      4\u001b[0m \u001b[38;5;28mprint\u001b[39m(\u001b[38;5;124m\"\u001b[39m\u001b[38;5;124mMean Squared Error:\u001b[39m\u001b[38;5;124m\"\u001b[39m, mean_squared_error(y_test, y_pred))\n",
      "\u001b[0;31mAttributeError\u001b[0m: 'LinearRegression' object has no attribute 'predict_proba'"
     ]
    }
   ],
   "source": [
    "\n"
   ]
  },
  {
   "cell_type": "code",
   "execution_count": 131,
   "metadata": {},
   "outputs": [
    {
     "ename": "KeyError",
     "evalue": "'actual'",
     "output_type": "error",
     "traceback": [
      "\u001b[0;31m---------------------------------------------------------------------------\u001b[0m",
      "\u001b[0;31mKeyError\u001b[0m                                  Traceback (most recent call last)",
      "File \u001b[0;32m~/anaconda3/lib/python3.11/site-packages/pandas/core/indexes/base.py:3791\u001b[0m, in \u001b[0;36mIndex.get_loc\u001b[0;34m(self, key)\u001b[0m\n\u001b[1;32m   3790\u001b[0m \u001b[38;5;28;01mtry\u001b[39;00m:\n\u001b[0;32m-> 3791\u001b[0m     \u001b[38;5;28;01mreturn\u001b[39;00m \u001b[38;5;28mself\u001b[39m\u001b[38;5;241m.\u001b[39m_engine\u001b[38;5;241m.\u001b[39mget_loc(casted_key)\n\u001b[1;32m   3792\u001b[0m \u001b[38;5;28;01mexcept\u001b[39;00m \u001b[38;5;167;01mKeyError\u001b[39;00m \u001b[38;5;28;01mas\u001b[39;00m err:\n",
      "File \u001b[0;32mindex.pyx:152\u001b[0m, in \u001b[0;36mpandas._libs.index.IndexEngine.get_loc\u001b[0;34m()\u001b[0m\n",
      "File \u001b[0;32mindex.pyx:181\u001b[0m, in \u001b[0;36mpandas._libs.index.IndexEngine.get_loc\u001b[0;34m()\u001b[0m\n",
      "File \u001b[0;32mpandas/_libs/hashtable_class_helper.pxi:7080\u001b[0m, in \u001b[0;36mpandas._libs.hashtable.PyObjectHashTable.get_item\u001b[0;34m()\u001b[0m\n",
      "File \u001b[0;32mpandas/_libs/hashtable_class_helper.pxi:7088\u001b[0m, in \u001b[0;36mpandas._libs.hashtable.PyObjectHashTable.get_item\u001b[0;34m()\u001b[0m\n",
      "\u001b[0;31mKeyError\u001b[0m: 'actual'",
      "\nThe above exception was the direct cause of the following exception:\n",
      "\u001b[0;31mKeyError\u001b[0m                                  Traceback (most recent call last)",
      "Cell \u001b[0;32mIn[131], line 6\u001b[0m\n\u001b[1;32m      3\u001b[0m \u001b[38;5;28;01mfrom\u001b[39;00m \u001b[38;5;21;01msklearn\u001b[39;00m\u001b[38;5;21;01m.\u001b[39;00m\u001b[38;5;21;01mmetrics\u001b[39;00m \u001b[38;5;28;01mimport\u001b[39;00m confusion_matrix, accuracy_score, precision_score, recall_score, f1_score\n\u001b[1;32m      5\u001b[0m \u001b[38;5;66;03m# Assuming df has 'actual' and 'predicted' columns\u001b[39;00m\n\u001b[0;32m----> 6\u001b[0m y_true \u001b[38;5;241m=\u001b[39m df[\u001b[38;5;124m'\u001b[39m\u001b[38;5;124mactual\u001b[39m\u001b[38;5;124m'\u001b[39m]       \u001b[38;5;66;03m# Replace with actual column name\u001b[39;00m\n\u001b[1;32m      7\u001b[0m y_pred \u001b[38;5;241m=\u001b[39m df[\u001b[38;5;124m'\u001b[39m\u001b[38;5;124mpredicted\u001b[39m\u001b[38;5;124m'\u001b[39m]    \u001b[38;5;66;03m# Replace with predicted column name\u001b[39;00m\n\u001b[1;32m      9\u001b[0m \u001b[38;5;66;03m# Confusion Matrix\u001b[39;00m\n",
      "File \u001b[0;32m~/anaconda3/lib/python3.11/site-packages/pandas/core/frame.py:3893\u001b[0m, in \u001b[0;36mDataFrame.__getitem__\u001b[0;34m(self, key)\u001b[0m\n\u001b[1;32m   3891\u001b[0m \u001b[38;5;28;01mif\u001b[39;00m \u001b[38;5;28mself\u001b[39m\u001b[38;5;241m.\u001b[39mcolumns\u001b[38;5;241m.\u001b[39mnlevels \u001b[38;5;241m>\u001b[39m \u001b[38;5;241m1\u001b[39m:\n\u001b[1;32m   3892\u001b[0m     \u001b[38;5;28;01mreturn\u001b[39;00m \u001b[38;5;28mself\u001b[39m\u001b[38;5;241m.\u001b[39m_getitem_multilevel(key)\n\u001b[0;32m-> 3893\u001b[0m indexer \u001b[38;5;241m=\u001b[39m \u001b[38;5;28mself\u001b[39m\u001b[38;5;241m.\u001b[39mcolumns\u001b[38;5;241m.\u001b[39mget_loc(key)\n\u001b[1;32m   3894\u001b[0m \u001b[38;5;28;01mif\u001b[39;00m is_integer(indexer):\n\u001b[1;32m   3895\u001b[0m     indexer \u001b[38;5;241m=\u001b[39m [indexer]\n",
      "File \u001b[0;32m~/anaconda3/lib/python3.11/site-packages/pandas/core/indexes/base.py:3798\u001b[0m, in \u001b[0;36mIndex.get_loc\u001b[0;34m(self, key)\u001b[0m\n\u001b[1;32m   3793\u001b[0m     \u001b[38;5;28;01mif\u001b[39;00m \u001b[38;5;28misinstance\u001b[39m(casted_key, \u001b[38;5;28mslice\u001b[39m) \u001b[38;5;129;01mor\u001b[39;00m (\n\u001b[1;32m   3794\u001b[0m         \u001b[38;5;28misinstance\u001b[39m(casted_key, abc\u001b[38;5;241m.\u001b[39mIterable)\n\u001b[1;32m   3795\u001b[0m         \u001b[38;5;129;01mand\u001b[39;00m \u001b[38;5;28many\u001b[39m(\u001b[38;5;28misinstance\u001b[39m(x, \u001b[38;5;28mslice\u001b[39m) \u001b[38;5;28;01mfor\u001b[39;00m x \u001b[38;5;129;01min\u001b[39;00m casted_key)\n\u001b[1;32m   3796\u001b[0m     ):\n\u001b[1;32m   3797\u001b[0m         \u001b[38;5;28;01mraise\u001b[39;00m InvalidIndexError(key)\n\u001b[0;32m-> 3798\u001b[0m     \u001b[38;5;28;01mraise\u001b[39;00m \u001b[38;5;167;01mKeyError\u001b[39;00m(key) \u001b[38;5;28;01mfrom\u001b[39;00m \u001b[38;5;21;01merr\u001b[39;00m\n\u001b[1;32m   3799\u001b[0m \u001b[38;5;28;01mexcept\u001b[39;00m \u001b[38;5;167;01mTypeError\u001b[39;00m:\n\u001b[1;32m   3800\u001b[0m     \u001b[38;5;66;03m# If we have a listlike key, _check_indexing_error will raise\u001b[39;00m\n\u001b[1;32m   3801\u001b[0m     \u001b[38;5;66;03m#  InvalidIndexError. Otherwise we fall through and re-raise\u001b[39;00m\n\u001b[1;32m   3802\u001b[0m     \u001b[38;5;66;03m#  the TypeError.\u001b[39;00m\n\u001b[1;32m   3803\u001b[0m     \u001b[38;5;28mself\u001b[39m\u001b[38;5;241m.\u001b[39m_check_indexing_error(key)\n",
      "\u001b[0;31mKeyError\u001b[0m: 'actual'"
     ]
    }
   ],
   "source": [
    "# Check the evaluation metrics of the model - Confusion Matrix, Accuracy, Precision, Recall, F1 score - 3 Marks\n",
    "\n",
    "from sklearn.metrics import confusion_matrix, accuracy_score, precision_score, recall_score, f1_score\n",
    "\n",
    "# Assuming df has 'actual' and 'predicted' columns\n",
    "y_true = df['actual']       # Replace with actual column name\n",
    "y_pred = df['predicted']    # Replace with predicted column name\n",
    "\n",
    "# Confusion Matrix\n",
    "conf_matrix = confusion_matrix(y_true, y_pred)\n",
    "\n",
    "# Accuracy\n",
    "accuracy = accuracy_score(y_true, y_pred)\n",
    "\n",
    "# Precision\n",
    "precision = precision_score(y_true, y_pred, average='weighted')\n",
    "\n",
    "# Recall\n",
    "recall = recall_score(y_true, y_pred, average='weighted')\n",
    "\n",
    "# F1 Score\n",
    "f1 = f1_score(y_true, y_pred, average='weighted')\n",
    "\n",
    "# Display results\n",
    "print(\"Confusion Matrix:\\n\", conf_matrix)\n",
    "print(\"Accuracy:\", accuracy)\n",
    "print(\"Precision:\", precision)\n",
    "print(\"Recall:\", recall)\n",
    "print(\"F1 Score:\", f1)\n",
    "\n"
   ]
  },
  {
   "cell_type": "code",
   "execution_count": 127,
   "metadata": {},
   "outputs": [
    {
     "data": {
      "text/html": [
       "<style>#sk-container-id-3 {color: black;background-color: white;}#sk-container-id-3 pre{padding: 0;}#sk-container-id-3 div.sk-toggleable {background-color: white;}#sk-container-id-3 label.sk-toggleable__label {cursor: pointer;display: block;width: 100%;margin-bottom: 0;padding: 0.3em;box-sizing: border-box;text-align: center;}#sk-container-id-3 label.sk-toggleable__label-arrow:before {content: \"▸\";float: left;margin-right: 0.25em;color: #696969;}#sk-container-id-3 label.sk-toggleable__label-arrow:hover:before {color: black;}#sk-container-id-3 div.sk-estimator:hover label.sk-toggleable__label-arrow:before {color: black;}#sk-container-id-3 div.sk-toggleable__content {max-height: 0;max-width: 0;overflow: hidden;text-align: left;background-color: #f0f8ff;}#sk-container-id-3 div.sk-toggleable__content pre {margin: 0.2em;color: black;border-radius: 0.25em;background-color: #f0f8ff;}#sk-container-id-3 input.sk-toggleable__control:checked~div.sk-toggleable__content {max-height: 200px;max-width: 100%;overflow: auto;}#sk-container-id-3 input.sk-toggleable__control:checked~label.sk-toggleable__label-arrow:before {content: \"▾\";}#sk-container-id-3 div.sk-estimator input.sk-toggleable__control:checked~label.sk-toggleable__label {background-color: #d4ebff;}#sk-container-id-3 div.sk-label input.sk-toggleable__control:checked~label.sk-toggleable__label {background-color: #d4ebff;}#sk-container-id-3 input.sk-hidden--visually {border: 0;clip: rect(1px 1px 1px 1px);clip: rect(1px, 1px, 1px, 1px);height: 1px;margin: -1px;overflow: hidden;padding: 0;position: absolute;width: 1px;}#sk-container-id-3 div.sk-estimator {font-family: monospace;background-color: #f0f8ff;border: 1px dotted black;border-radius: 0.25em;box-sizing: border-box;margin-bottom: 0.5em;}#sk-container-id-3 div.sk-estimator:hover {background-color: #d4ebff;}#sk-container-id-3 div.sk-parallel-item::after {content: \"\";width: 100%;border-bottom: 1px solid gray;flex-grow: 1;}#sk-container-id-3 div.sk-label:hover label.sk-toggleable__label {background-color: #d4ebff;}#sk-container-id-3 div.sk-serial::before {content: \"\";position: absolute;border-left: 1px solid gray;box-sizing: border-box;top: 0;bottom: 0;left: 50%;z-index: 0;}#sk-container-id-3 div.sk-serial {display: flex;flex-direction: column;align-items: center;background-color: white;padding-right: 0.2em;padding-left: 0.2em;position: relative;}#sk-container-id-3 div.sk-item {position: relative;z-index: 1;}#sk-container-id-3 div.sk-parallel {display: flex;align-items: stretch;justify-content: center;background-color: white;position: relative;}#sk-container-id-3 div.sk-item::before, #sk-container-id-3 div.sk-parallel-item::before {content: \"\";position: absolute;border-left: 1px solid gray;box-sizing: border-box;top: 0;bottom: 0;left: 50%;z-index: -1;}#sk-container-id-3 div.sk-parallel-item {display: flex;flex-direction: column;z-index: 1;position: relative;background-color: white;}#sk-container-id-3 div.sk-parallel-item:first-child::after {align-self: flex-end;width: 50%;}#sk-container-id-3 div.sk-parallel-item:last-child::after {align-self: flex-start;width: 50%;}#sk-container-id-3 div.sk-parallel-item:only-child::after {width: 0;}#sk-container-id-3 div.sk-dashed-wrapped {border: 1px dashed gray;margin: 0 0.4em 0.5em 0.4em;box-sizing: border-box;padding-bottom: 0.4em;background-color: white;}#sk-container-id-3 div.sk-label label {font-family: monospace;font-weight: bold;display: inline-block;line-height: 1.2em;}#sk-container-id-3 div.sk-label-container {text-align: center;}#sk-container-id-3 div.sk-container {/* jupyter's `normalize.less` sets `[hidden] { display: none; }` but bootstrap.min.css set `[hidden] { display: none !important; }` so we also need the `!important` here to be able to override the default hidden behavior on the sphinx rendered scikit-learn.org. See: https://github.com/scikit-learn/scikit-learn/issues/21755 */display: inline-block !important;position: relative;}#sk-container-id-3 div.sk-text-repr-fallback {display: none;}</style><div id=\"sk-container-id-3\" class=\"sk-top-container\"><div class=\"sk-text-repr-fallback\"><pre>LinearRegression()</pre><b>In a Jupyter environment, please rerun this cell to show the HTML representation or trust the notebook. <br />On GitHub, the HTML representation is unable to render, please try loading this page with nbviewer.org.</b></div><div class=\"sk-container\" hidden><div class=\"sk-item\"><div class=\"sk-estimator sk-toggleable\"><input class=\"sk-toggleable__control sk-hidden--visually\" id=\"sk-estimator-id-3\" type=\"checkbox\" checked><label for=\"sk-estimator-id-3\" class=\"sk-toggleable__label sk-toggleable__label-arrow\">LinearRegression</label><div class=\"sk-toggleable__content\"><pre>LinearRegression()</pre></div></div></div></div></div>"
      ],
      "text/plain": [
       "LinearRegression()"
      ]
     },
     "execution_count": 127,
     "metadata": {},
     "output_type": "execute_result"
    }
   ],
   "source": [
    "#Draw the decision tree - 1 marks\n",
    "from sklearn.tree import DecisionTreeClassifier,plot_tree\n",
    "f=DecisionTreeClassifier()\n",
    "model\n"
   ]
  },
  {
   "cell_type": "code",
   "execution_count": 224,
   "metadata": {},
   "outputs": [
    {
     "ename": "TypeError",
     "evalue": "plot_tree() got an unexpected keyword argument 'data'",
     "output_type": "error",
     "traceback": [
      "\u001b[0;31m---------------------------------------------------------------------------\u001b[0m",
      "\u001b[0;31mTypeError\u001b[0m                                 Traceback (most recent call last)",
      "Cell \u001b[0;32mIn[224], line 1\u001b[0m\n\u001b[0;32m----> 1\u001b[0m plot_tree(f,feature_names\u001b[38;5;241m=\u001b[39mx\u001b[38;5;241m.\u001b[39mcolumns,class_names\u001b[38;5;241m=\u001b[39m[\u001b[38;5;124m\"\u001b[39m\u001b[38;5;124m0\u001b[39m\u001b[38;5;124m\"\u001b[39m,\u001b[38;5;124m\"\u001b[39m\u001b[38;5;124m1\u001b[39m\u001b[38;5;124m\"\u001b[39m],data\u001b[38;5;241m=\u001b[39mdf)\n\u001b[1;32m      2\u001b[0m plt\u001b[38;5;241m.\u001b[39mshow()\n",
      "\u001b[0;31mTypeError\u001b[0m: plot_tree() got an unexpected keyword argument 'data'"
     ]
    }
   ],
   "source": [
    "plot_tree(f,feature_names=x.columns,class_names=[\"0\",\"1\"],data=df)\n",
    "plt.show()"
   ]
  },
  {
   "cell_type": "code",
   "execution_count": null,
   "metadata": {},
   "outputs": [],
   "source": []
  }
 ],
 "metadata": {
  "kernelspec": {
   "display_name": "Python 3 (ipykernel)",
   "language": "python",
   "name": "python3"
  },
  "language_info": {
   "codemirror_mode": {
    "name": "ipython",
    "version": 3
   },
   "file_extension": ".py",
   "mimetype": "text/x-python",
   "name": "python",
   "nbconvert_exporter": "python",
   "pygments_lexer": "ipython3",
   "version": "3.11.7"
  },
  "varInspector": {
   "cols": {
    "lenName": 16,
    "lenType": 16,
    "lenVar": 40
   },
   "kernels_config": {
    "python": {
     "delete_cmd_postfix": "",
     "delete_cmd_prefix": "del ",
     "library": "var_list.py",
     "varRefreshCmd": "print(var_dic_list())"
    },
    "r": {
     "delete_cmd_postfix": ") ",
     "delete_cmd_prefix": "rm(",
     "library": "var_list.r",
     "varRefreshCmd": "cat(var_dic_list()) "
    }
   },
   "types_to_exclude": [
    "module",
    "function",
    "builtin_function_or_method",
    "instance",
    "_Feature"
   ],
   "window_display": false
  }
 },
 "nbformat": 4,
 "nbformat_minor": 4
}
