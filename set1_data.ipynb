{
 "cells": [
  {
   "cell_type": "markdown",
   "metadata": {},
   "source": [
    "## ML Lab Internal Exam - SET 1\n",
    "## Name:bommanaveni chaithanya\n",
    "## ID:B200874\n",
    "## Class:cse-c4"
   ]
  },
  {
   "cell_type": "markdown",
   "metadata": {},
   "source": [
    "## Dataset Description\n",
    "The classification task of this database is to determine where patients in a postoperative recovery area (after a operation) should be sent to next. Because hypothermia is a significant concern after surgery (Woolery, L. et. al. 1991), the attributes correspond roughly to body temperature measurements. \n",
    "\n",
    "\n",
    "<b>Attribute Information:</b><br>\n",
    "\n",
    "1. L-CORE (patient's internal temperature in C): <br>\n",
    "high (> 37), mid (>= 36 and <= 37), low (< 36) <br>\n",
    "2. L-SURF (patient's surface temperature in C): <br>\n",
    "high (> 36.5), mid (>= 36.5 and <= 35), low (< 35) <br>\n",
    "3. L-O2 (oxygen saturation in %): <br>\n",
    "excellent (>= 98), good (>= 90 and < 98), fair (>= 80 and < 90), poor (< 80) <br>\n",
    "4. L-BP (last measurement of blood pressure): <br>\n",
    "high (> 130/90), mid (<= 130/90 and >= 90/70), low (< 90/70) <br> \n",
    "5. SURF-STBL (stability of patient's surface temperature): <br>\n",
    "stable, mod-stable, unstable <br>\n",
    "6. CORE-STBL (stability of patient's core temperature) <br>\n",
    "stable, mod-stable, unstable <br>\n",
    "7. BP-STBL (stability of patient's blood pressure) <br>\n",
    "stable, mod-stable, unstable <br>\n",
    "8. COMFORT (patient's perceived comfort at discharge, measured as an integer between 0 and 20) <br>\n",
    "9. decision ADM-DECS (discharge decision): <br>\n",
    "I  (patient sent to Intensive Care Unit), <br>\n",
    "S (patient prepared to go home), <br>\n",
    "A (patient sent to general hospital floor)"
   ]
  },
  {
   "cell_type": "code",
   "execution_count": 1,
   "metadata": {},
   "outputs": [],
   "source": [
    "# Import necessary libraries\n",
    "import pandas as pd\n",
    "import numpy as np\n",
    "import matplotlib.pyplot as plt\n",
    "from sklearn.preprocessing import LabelEncoder"
   ]
  },
  {
   "cell_type": "code",
   "execution_count": 2,
   "metadata": {},
   "outputs": [
    {
     "data": {
      "text/html": [
       "<div>\n",
       "<style scoped>\n",
       "    .dataframe tbody tr th:only-of-type {\n",
       "        vertical-align: middle;\n",
       "    }\n",
       "\n",
       "    .dataframe tbody tr th {\n",
       "        vertical-align: top;\n",
       "    }\n",
       "\n",
       "    .dataframe thead th {\n",
       "        text-align: right;\n",
       "    }\n",
       "</style>\n",
       "<table border=\"1\" class=\"dataframe\">\n",
       "  <thead>\n",
       "    <tr style=\"text-align: right;\">\n",
       "      <th></th>\n",
       "      <th>L-CORE</th>\n",
       "      <th>L-SURF</th>\n",
       "      <th>L-O2</th>\n",
       "      <th>L-BP</th>\n",
       "      <th>SURF-STBL</th>\n",
       "      <th>CORE-STBL</th>\n",
       "      <th>BP-STBL</th>\n",
       "      <th>COMFORT</th>\n",
       "      <th>ADM-DECS</th>\n",
       "    </tr>\n",
       "  </thead>\n",
       "  <tbody>\n",
       "    <tr>\n",
       "      <th>0</th>\n",
       "      <td>mid</td>\n",
       "      <td>low</td>\n",
       "      <td>excellent</td>\n",
       "      <td>mid</td>\n",
       "      <td>stable</td>\n",
       "      <td>stable</td>\n",
       "      <td>stable</td>\n",
       "      <td>15.0</td>\n",
       "      <td>A</td>\n",
       "    </tr>\n",
       "    <tr>\n",
       "      <th>1</th>\n",
       "      <td>mid</td>\n",
       "      <td>high</td>\n",
       "      <td>excellent</td>\n",
       "      <td>high</td>\n",
       "      <td>stable</td>\n",
       "      <td>stable</td>\n",
       "      <td>stable</td>\n",
       "      <td>10.0</td>\n",
       "      <td>S</td>\n",
       "    </tr>\n",
       "    <tr>\n",
       "      <th>2</th>\n",
       "      <td>high</td>\n",
       "      <td>low</td>\n",
       "      <td>excellent</td>\n",
       "      <td>high</td>\n",
       "      <td>stable</td>\n",
       "      <td>stable</td>\n",
       "      <td>mod-stable</td>\n",
       "      <td>10.0</td>\n",
       "      <td>A</td>\n",
       "    </tr>\n",
       "    <tr>\n",
       "      <th>3</th>\n",
       "      <td>mid</td>\n",
       "      <td>low</td>\n",
       "      <td>good</td>\n",
       "      <td>high</td>\n",
       "      <td>stable</td>\n",
       "      <td>unstable</td>\n",
       "      <td>mod-stable</td>\n",
       "      <td>15.0</td>\n",
       "      <td>A</td>\n",
       "    </tr>\n",
       "    <tr>\n",
       "      <th>4</th>\n",
       "      <td>mid</td>\n",
       "      <td>mid</td>\n",
       "      <td>excellent</td>\n",
       "      <td>high</td>\n",
       "      <td>stable</td>\n",
       "      <td>stable</td>\n",
       "      <td>stable</td>\n",
       "      <td>10.0</td>\n",
       "      <td>A</td>\n",
       "    </tr>\n",
       "    <tr>\n",
       "      <th>...</th>\n",
       "      <td>...</td>\n",
       "      <td>...</td>\n",
       "      <td>...</td>\n",
       "      <td>...</td>\n",
       "      <td>...</td>\n",
       "      <td>...</td>\n",
       "      <td>...</td>\n",
       "      <td>...</td>\n",
       "      <td>...</td>\n",
       "    </tr>\n",
       "    <tr>\n",
       "      <th>85</th>\n",
       "      <td>mid</td>\n",
       "      <td>mid</td>\n",
       "      <td>excellent</td>\n",
       "      <td>mid</td>\n",
       "      <td>unstable</td>\n",
       "      <td>stable</td>\n",
       "      <td>stable</td>\n",
       "      <td>10.0</td>\n",
       "      <td>A</td>\n",
       "    </tr>\n",
       "    <tr>\n",
       "      <th>86</th>\n",
       "      <td>mid</td>\n",
       "      <td>mid</td>\n",
       "      <td>excellent</td>\n",
       "      <td>mid</td>\n",
       "      <td>unstable</td>\n",
       "      <td>stable</td>\n",
       "      <td>stable</td>\n",
       "      <td>15.0</td>\n",
       "      <td>S</td>\n",
       "    </tr>\n",
       "    <tr>\n",
       "      <th>87</th>\n",
       "      <td>mid</td>\n",
       "      <td>mid</td>\n",
       "      <td>NaN</td>\n",
       "      <td>mid</td>\n",
       "      <td>unstable</td>\n",
       "      <td>stable</td>\n",
       "      <td>stable</td>\n",
       "      <td>15.0</td>\n",
       "      <td>A</td>\n",
       "    </tr>\n",
       "    <tr>\n",
       "      <th>88</th>\n",
       "      <td>mid</td>\n",
       "      <td>mid</td>\n",
       "      <td>excellent</td>\n",
       "      <td>mid</td>\n",
       "      <td>unstable</td>\n",
       "      <td>stable</td>\n",
       "      <td>stable</td>\n",
       "      <td>10.0</td>\n",
       "      <td>A</td>\n",
       "    </tr>\n",
       "    <tr>\n",
       "      <th>89</th>\n",
       "      <td>mid</td>\n",
       "      <td>mid</td>\n",
       "      <td>good</td>\n",
       "      <td>mid</td>\n",
       "      <td>unstable</td>\n",
       "      <td>stable</td>\n",
       "      <td>stable</td>\n",
       "      <td>15.0</td>\n",
       "      <td>S</td>\n",
       "    </tr>\n",
       "  </tbody>\n",
       "</table>\n",
       "<p>90 rows × 9 columns</p>\n",
       "</div>"
      ],
      "text/plain": [
       "   L-CORE L-SURF       L-O2  L-BP SURF-STBL CORE-STBL     BP-STBL  COMFORT  \\\n",
       "0     mid    low  excellent   mid    stable    stable      stable     15.0   \n",
       "1     mid   high  excellent  high    stable    stable      stable     10.0   \n",
       "2    high    low  excellent  high    stable    stable  mod-stable     10.0   \n",
       "3     mid    low       good  high    stable  unstable  mod-stable     15.0   \n",
       "4     mid    mid  excellent  high    stable    stable      stable     10.0   \n",
       "..    ...    ...        ...   ...       ...       ...         ...      ...   \n",
       "85    mid    mid  excellent   mid  unstable    stable      stable     10.0   \n",
       "86    mid    mid  excellent   mid  unstable    stable      stable     15.0   \n",
       "87    mid    mid        NaN   mid  unstable    stable      stable     15.0   \n",
       "88    mid    mid  excellent   mid  unstable    stable      stable     10.0   \n",
       "89    mid    mid       good   mid  unstable    stable      stable     15.0   \n",
       "\n",
       "   ADM-DECS  \n",
       "0         A  \n",
       "1         S  \n",
       "2         A  \n",
       "3         A  \n",
       "4         A  \n",
       "..      ...  \n",
       "85        A  \n",
       "86        S  \n",
       "87        A  \n",
       "88        A  \n",
       "89        S  \n",
       "\n",
       "[90 rows x 9 columns]"
      ]
     },
     "execution_count": 2,
     "metadata": {},
     "output_type": "execute_result"
    }
   ],
   "source": [
    "#Import Dataset - set1_data.csv \n",
    "df=pd.read_csv(\"set1_data.csv\")\n",
    "df"
   ]
  },
  {
   "cell_type": "code",
   "execution_count": 3,
   "metadata": {},
   "outputs": [
    {
     "name": "stdout",
     "output_type": "stream",
     "text": [
      "Top 5 rows:\n",
      "  L-CORE L-SURF       L-O2  L-BP SURF-STBL CORE-STBL     BP-STBL  COMFORT  \\\n",
      "0    mid    low  excellent   mid    stable    stable      stable     15.0   \n",
      "1    mid   high  excellent  high    stable    stable      stable     10.0   \n",
      "2   high    low  excellent  high    stable    stable  mod-stable     10.0   \n",
      "3    mid    low       good  high    stable  unstable  mod-stable     15.0   \n",
      "4    mid    mid  excellent  high    stable    stable      stable     10.0   \n",
      "\n",
      "  ADM-DECS  \n",
      "0        A  \n",
      "1        S  \n",
      "2        A  \n",
      "3        A  \n",
      "4        A  \n",
      "Random 5 rows:\n",
      "   L-CORE L-SURF       L-O2  L-BP SURF-STBL CORE-STBL BP-STBL  COMFORT  \\\n",
      "58    low    low       good  high    stable    stable  stable     10.0   \n",
      "78    mid    mid  excellent   mid  unstable  unstable  stable     10.0   \n",
      "43    mid    mid       good   mid    stable    stable  stable     10.0   \n",
      "55    mid    mid       good   mid  unstable    stable  stable     15.0   \n",
      "87    mid    mid        NaN   mid  unstable    stable  stable     15.0   \n",
      "\n",
      "   ADM-DECS  \n",
      "58        A  \n",
      "78        S  \n",
      "43        S  \n",
      "55        A  \n",
      "87        A  \n"
     ]
    }
   ],
   "source": [
    "# Print top 5 and random 5 values - 2 Marks\n",
    "print(\"Top 5 rows:\")\n",
    "print(df.head())\n",
    "\n",
    "print(\"Random 5 rows:\")\n",
    "print(df.sample(5, random_state=1))"
   ]
  },
  {
   "cell_type": "code",
   "execution_count": 4,
   "metadata": {},
   "outputs": [
    {
     "data": {
      "text/plain": [
       "Index(['L-CORE', 'L-SURF', 'L-O2', 'L-BP', 'SURF-STBL', 'CORE-STBL', 'BP-STBL',\n",
       "       'COMFORT', 'ADM-DECS'],\n",
       "      dtype='object')"
      ]
     },
     "execution_count": 4,
     "metadata": {},
     "output_type": "execute_result"
    }
   ],
   "source": [
    "#Print column names - 1 Marks\n",
    "df.columns"
   ]
  },
  {
   "cell_type": "code",
   "execution_count": 5,
   "metadata": {},
   "outputs": [
    {
     "data": {
      "text/plain": [
       "L-CORE        object\n",
       "L-SURF        object\n",
       "L-O2          object\n",
       "L-BP          object\n",
       "SURF-STBL     object\n",
       "CORE-STBL     object\n",
       "BP-STBL       object\n",
       "COMFORT      float64\n",
       "ADM-DECS      object\n",
       "dtype: object"
      ]
     },
     "execution_count": 5,
     "metadata": {},
     "output_type": "execute_result"
    }
   ],
   "source": [
    "#Check the data type of each column - 1 Marks\n",
    "df.dtypes"
   ]
  },
  {
   "cell_type": "code",
   "execution_count": 6,
   "metadata": {},
   "outputs": [
    {
     "name": "stdout",
     "output_type": "stream",
     "text": [
      "Rows  90\n"
     ]
    }
   ],
   "source": [
    "#Print number of rows and columns 1 Mark\n",
    "print(\"Rows \",df.shape[0])"
   ]
  },
  {
   "cell_type": "code",
   "execution_count": 7,
   "metadata": {},
   "outputs": [
    {
     "name": "stdout",
     "output_type": "stream",
     "text": [
      "<class 'pandas.core.frame.DataFrame'>\n",
      "RangeIndex: 90 entries, 0 to 89\n",
      "Data columns (total 9 columns):\n",
      " #   Column     Non-Null Count  Dtype  \n",
      "---  ------     --------------  -----  \n",
      " 0   L-CORE     89 non-null     object \n",
      " 1   L-SURF     90 non-null     object \n",
      " 2   L-O2       89 non-null     object \n",
      " 3   L-BP       90 non-null     object \n",
      " 4   SURF-STBL  89 non-null     object \n",
      " 5   CORE-STBL  90 non-null     object \n",
      " 6   BP-STBL    90 non-null     object \n",
      " 7   COMFORT    87 non-null     float64\n",
      " 8   ADM-DECS   90 non-null     object \n",
      "dtypes: float64(1), object(8)\n",
      "memory usage: 6.5+ KB\n"
     ]
    }
   ],
   "source": [
    "#Print summary statistics of all variables - 1 Mark\n",
    "df.info()"
   ]
  },
  {
   "cell_type": "code",
   "execution_count": 8,
   "metadata": {
    "scrolled": true
   },
   "outputs": [
    {
     "data": {
      "text/plain": [
       "L-CORE       1\n",
       "L-SURF       0\n",
       "L-O2         1\n",
       "L-BP         0\n",
       "SURF-STBL    1\n",
       "CORE-STBL    0\n",
       "BP-STBL      0\n",
       "COMFORT      3\n",
       "ADM-DECS     0\n",
       "dtype: int64"
      ]
     },
     "execution_count": 8,
     "metadata": {},
     "output_type": "execute_result"
    }
   ],
   "source": [
    "#Print the number of missing values in each column - 1 Marks\n",
    "df.isnull().sum()"
   ]
  },
  {
   "cell_type": "code",
   "execution_count": 9,
   "metadata": {},
   "outputs": [
    {
     "name": "stdout",
     "output_type": "stream",
     "text": [
      "L-CORE       0\n",
      "L-SURF       0\n",
      "L-O2         0\n",
      "L-BP         0\n",
      "SURF-STBL    0\n",
      "CORE-STBL    0\n",
      "BP-STBL      0\n",
      "COMFORT      0\n",
      "ADM-DECS     0\n",
      "dtype: int64\n"
     ]
    }
   ],
   "source": [
    "#Impute missing values - Replace missing categorical values with mode and numerical values with mean of the column - 3 Mark\n",
    "#Print the number of missing values in each column after imputation\n",
    "for col in df.columns:\n",
    "    if df[col].dtype == 'object': \n",
    "        mode = df[col].mode()[0]\n",
    "        df[col].fillna(mode, inplace=True)\n",
    "    else: \n",
    "        mean = df[col].mean()\n",
    "        df[col].fillna(mean, inplace=True)\n",
    "\n",
    "print(df.isnull().sum())\n",
    "\n"
   ]
  },
  {
   "cell_type": "code",
   "execution_count": 10,
   "metadata": {},
   "outputs": [
    {
     "name": "stdout",
     "output_type": "stream",
     "text": [
      "ADM-DECS\n",
      "A    64\n",
      "I     2\n",
      "S    24\n",
      "dtype: int64\n",
      "ADM-DECS\n",
      "A    64\n",
      "S    24\n",
      "I     2\n",
      "Name: count, dtype: int64\n"
     ]
    }
   ],
   "source": [
    "#Print count of patients in each category - 1 Marks\n",
    "print(df.groupby('ADM-DECS').size())\n",
    "print(df['ADM-DECS'].value_counts())"
   ]
  },
  {
   "cell_type": "code",
   "execution_count": 11,
   "metadata": {},
   "outputs": [
    {
     "name": "stderr",
     "output_type": "stream",
     "text": [
      "/home/rgukt-basar/anaconda3/lib/python3.11/site-packages/seaborn/_oldcore.py:1119: FutureWarning: use_inf_as_na option is deprecated and will be removed in a future version. Convert inf values to NaN before operating instead.\n",
      "  with pd.option_context('mode.use_inf_as_na', True):\n"
     ]
    },
    {
     "data": {
      "image/png": "[encoded data removed]",
      "text/plain": [
       "<Figure size 640x480 with 1 Axes>"
      ]
     },
     "metadata": {},
     "output_type": "display_data"
    }
   ],
   "source": [
    "#Plot histogram of values of patient's perceived comfort at discharge - 1 Marks\n",
    "import seaborn as sns\n",
    "import seaborn as sns\n",
    "import matplotlib.pyplot as plt\n",
    "sns.histplot(df['COMFORT'], bins=10, kde=False, color='skyblue')\n",
    "plt.title(\"Histogram of Patient's Perceived Comfort at Discharge\")\n",
    "plt.xlabel(\"Comfort Level\")\n",
    "plt.ylabel(\"Number of Patients\")\n",
    "plt.grid(True)\n",
    "plt.show()"
   ]
  },
  {
   "cell_type": "code",
   "execution_count": 12,
   "metadata": {},
   "outputs": [
    {
     "data": {
      "image/png": "[encoded data removed]",
      "text/plain": [
       "<Figure size 1200x800 with 4 Axes>"
      ]
     },
     "metadata": {},
     "output_type": "display_data"
    }
   ],
   "source": [
    "# Plot barchart of L-CORE, L-SURF,L-O2 and L-BP using 2X2 subplots - 3 Marks\n",
    "import matplotlib.pyplot as plt\n",
    "columns = ['L-CORE', 'L-SURF', 'L-O2', 'L-BP']\n",
    "fig, axes = plt.subplots(2, 2, figsize=(12, 8))\n",
    "fig.suptitle('Bar Charts of Patient Vital Signs')\n",
    "axes = axes.flatten()\n",
    "for i, col in enumerate(columns):\n",
    "    value_counts = df[col].value_counts()\n",
    "    axes[i].bar(value_counts.index, value_counts.values, color='skyblue')\n",
    "    axes[i].set_title(col)\n",
    "    axes[i].set_xlabel(\"Category\")\n",
    "    axes[i].set_ylabel(\"Count\")\n",
    "plt.tight_layout(rect=[0, 0.03, 1, 0.95])\n",
    "plt.show()"
   ]
  },
  {
   "cell_type": "code",
   "execution_count": 13,
   "metadata": {},
   "outputs": [
    {
     "data": {
      "image/png": "[encoded data removed]",
      "text/plain": [
       "<Figure size 600x600 with 1 Axes>"
      ]
     },
     "metadata": {},
     "output_type": "display_data"
    }
   ],
   "source": [
    "# Plot pie chart of patient's surface temperature in C - 2 Mark\n",
    "import matplotlib.pyplot as plt\n",
    "surf_temp_counts = df['L-SURF'].value_counts()\n",
    "plt.figure(figsize=(6, 6))\n",
    "plt.pie(surf_temp_counts, labels=surf_temp_counts.index, autopct='%1.1f%%', startangle=140, colors=plt.cm.Pastel1.colors)\n",
    "plt.title(\"Pie Chart of Patient's Surface Temperature (L-SURF)\")\n",
    "plt.axis('equal')\n",
    "plt.show()\n"
   ]
  },
  {
   "cell_type": "code",
   "execution_count": 14,
   "metadata": {},
   "outputs": [],
   "source": [
    "#Prepare X - input matrix and y - label vector - 1 Mark\n",
    "# Prepare input features and label\n",
    "X = df.drop('ADM-DECS', axis=1)\n",
    "y = df['ADM-DECS']"
   ]
  },
  {
   "cell_type": "code",
   "execution_count": 15,
   "metadata": {},
   "outputs": [],
   "source": [
    "#Apply label encoder for categorical columns - 2 Marks\n",
    "from sklearn.preprocessing import LabelEncoder\n",
    "from sklearn.preprocessing import LabelEncoder\n",
    "\n",
    "le = LabelEncoder()\n",
    "for col in df.select_dtypes(include='object'):\n",
    "    df[col] = le.fit_transform(df[col])\n",
    "\n"
   ]
  },
  {
   "cell_type": "code",
   "execution_count": 16,
   "metadata": {},
   "outputs": [],
   "source": [
    "# Split the data into train and test set  - use test size = 30% and random state = 4 : - 2 Marks\n",
    "from sklearn.model_selection import train_test_split\n",
    "X_train, X_test, y_train, y_test = train_test_split(X, y, test_size=0.3, random_state=4)"
   ]
  },
  {
   "cell_type": "code",
   "execution_count": 17,
   "metadata": {},
   "outputs": [
    {
     "name": "stdout",
     "output_type": "stream",
     "text": [
      "(63, 8)\n",
      "(27, 8)\n",
      "(63,)\n",
      "(27,)\n"
     ]
    }
   ],
   "source": [
    "#Print train and test data size\n",
    "print(X_train.shape)\n",
    "print(X_test.shape)\n",
    "print(y_train.shape)\n",
    "print(y_test.shape)"
   ]
  },
  {
   "cell_type": "code",
   "execution_count": 18,
   "metadata": {},
   "outputs": [
    {
     "data": {
      "text/html": [
       "<style>#sk-container-id-1 {color: black;background-color: white;}#sk-container-id-1 pre{padding: 0;}#sk-container-id-1 div.sk-toggleable {background-color: white;}#sk-container-id-1 label.sk-toggleable__label {cursor: pointer;display: block;width: 100%;margin-bottom: 0;padding: 0.3em;box-sizing: border-box;text-align: center;}#sk-container-id-1 label.sk-toggleable__label-arrow:before {content: \"▸\";float: left;margin-right: 0.25em;color: #696969;}#sk-container-id-1 label.sk-toggleable__label-arrow:hover:before {color: black;}#sk-container-id-1 div.sk-estimator:hover label.sk-toggleable__label-arrow:before {color: black;}#sk-container-id-1 div.sk-toggleable__content {max-height: 0;max-width: 0;overflow: hidden;text-align: left;background-color: #f0f8ff;}#sk-container-id-1 div.sk-toggleable__content pre {margin: 0.2em;color: black;border-radius: 0.25em;background-color: #f0f8ff;}#sk-container-id-1 input.sk-toggleable__control:checked~div.sk-toggleable__content {max-height: 200px;max-width: 100%;overflow: auto;}#sk-container-id-1 input.sk-toggleable__control:checked~label.sk-toggleable__label-arrow:before {content: \"▾\";}#sk-container-id-1 div.sk-estimator input.sk-toggleable__control:checked~label.sk-toggleable__label {background-color: #d4ebff;}#sk-container-id-1 div.sk-label input.sk-toggleable__control:checked~label.sk-toggleable__label {background-color: #d4ebff;}#sk-container-id-1 input.sk-hidden--visually {border: 0;clip: rect(1px 1px 1px 1px);clip: rect(1px, 1px, 1px, 1px);height: 1px;margin: -1px;overflow: hidden;padding: 0;position: absolute;width: 1px;}#sk-container-id-1 div.sk-estimator {font-family: monospace;background-color: #f0f8ff;border: 1px dotted black;border-radius: 0.25em;box-sizing: border-box;margin-bottom: 0.5em;}#sk-container-id-1 div.sk-estimator:hover {background-color: #d4ebff;}#sk-container-id-1 div.sk-parallel-item::after {content: \"\";width: 100%;border-bottom: 1px solid gray;flex-grow: 1;}#sk-container-id-1 div.sk-label:hover label.sk-toggleable__label {background-color: #d4ebff;}#sk-container-id-1 div.sk-serial::before {content: \"\";position: absolute;border-left: 1px solid gray;box-sizing: border-box;top: 0;bottom: 0;left: 50%;z-index: 0;}#sk-container-id-1 div.sk-serial {display: flex;flex-direction: column;align-items: center;background-color: white;padding-right: 0.2em;padding-left: 0.2em;position: relative;}#sk-container-id-1 div.sk-item {position: relative;z-index: 1;}#sk-container-id-1 div.sk-parallel {display: flex;align-items: stretch;justify-content: center;background-color: white;position: relative;}#sk-container-id-1 div.sk-item::before, #sk-container-id-1 div.sk-parallel-item::before {content: \"\";position: absolute;border-left: 1px solid gray;box-sizing: border-box;top: 0;bottom: 0;left: 50%;z-index: -1;}#sk-container-id-1 div.sk-parallel-item {display: flex;flex-direction: column;z-index: 1;position: relative;background-color: white;}#sk-container-id-1 div.sk-parallel-item:first-child::after {align-self: flex-end;width: 50%;}#sk-container-id-1 div.sk-parallel-item:last-child::after {align-self: flex-start;width: 50%;}#sk-container-id-1 div.sk-parallel-item:only-child::after {width: 0;}#sk-container-id-1 div.sk-dashed-wrapped {border: 1px dashed gray;margin: 0 0.4em 0.5em 0.4em;box-sizing: border-box;padding-bottom: 0.4em;background-color: white;}#sk-container-id-1 div.sk-label label {font-family: monospace;font-weight: bold;display: inline-block;line-height: 1.2em;}#sk-container-id-1 div.sk-label-container {text-align: center;}#sk-container-id-1 div.sk-container {/* jupyter's `normalize.less` sets `[hidden] { display: none; }` but bootstrap.min.css set `[hidden] { display: none !important; }` so we also need the `!important` here to be able to override the default hidden behavior on the sphinx rendered scikit-learn.org. See: https://github.com/scikit-learn/scikit-learn/issues/21755 */display: inline-block !important;position: relative;}#sk-container-id-1 div.sk-text-repr-fallback {display: none;}</style><div id=\"sk-container-id-1\" class=\"sk-top-container\"><div class=\"sk-text-repr-fallback\"><pre>GaussianNB()</pre><b>In a Jupyter environment, please rerun this cell to show the HTML representation or trust the notebook. <br />On GitHub, the HTML representation is unable to render, please try loading this page with nbviewer.org.</b></div><div class=\"sk-container\" hidden><div class=\"sk-item\"><div class=\"sk-estimator sk-toggleable\"><input class=\"sk-toggleable__control sk-hidden--visually\" id=\"sk-estimator-id-1\" type=\"checkbox\" checked><label for=\"sk-estimator-id-1\" class=\"sk-toggleable__label sk-toggleable__label-arrow\">GaussianNB</label><div class=\"sk-toggleable__content\"><pre>GaussianNB()</pre></div></div></div></div></div>"
      ],
      "text/plain": [
       "GaussianNB()"
      ]
     },
     "execution_count": 18,
     "metadata": {},
     "output_type": "execute_result"
    }
   ],
   "source": [
    "# Fit the Naive Bayes classifier on training data - 3 Marks\n",
    "from sklearn.naive_bayes import GaussianNB\n",
    "nb_classifier = GaussianNB()\n",
    "nb_classifier.fit(X_train, y_train)"
   ]
  },
  {
   "cell_type": "code",
   "execution_count": 19,
   "metadata": {},
   "outputs": [],
   "source": [
    "# Make prediction on test data - 1 Marks\n",
    "y_pred = nb_classifier.predict(X_test)"
   ]
  },
  {
   "cell_type": "code",
   "execution_count": 20,
   "metadata": {},
   "outputs": [
    {
     "name": "stdout",
     "output_type": "stream",
     "text": [
      "Confusion Matrix:\n",
      " [[12  4  0]\n",
      " [ 0  0  0]\n",
      " [ 6  5  0]]\n",
      "Accuracy: 0.4444444444444444\n",
      "Precision: 0.2222222222222222\n",
      "Recall: 0.25\n",
      "F1 Score: 0.23529411764705885\n"
     ]
    },
    {
     "name": "stderr",
     "output_type": "stream",
     "text": [
      "/home/rgukt-basar/anaconda3/lib/python3.11/site-packages/sklearn/metrics/_classification.py:1344: UndefinedMetricWarning: Precision is ill-defined and being set to 0.0 in labels with no predicted samples. Use `zero_division` parameter to control this behavior.\n",
      "  _warn_prf(average, modifier, msg_start, len(result))\n",
      "/home/rgukt-basar/anaconda3/lib/python3.11/site-packages/sklearn/metrics/_classification.py:1344: UndefinedMetricWarning: Recall is ill-defined and being set to 0.0 in labels with no true samples. Use `zero_division` parameter to control this behavior.\n",
      "  _warn_prf(average, modifier, msg_start, len(result))\n"
     ]
    }
   ],
   "source": [
    "# Check the evaluation metrics of the model - Confusion Matrix, Accuracy, Precision, Recall, F1 score - 3 Marks\n",
    "from sklearn.metrics import confusion_matrix, accuracy_score, precision_score, recall_score, f1_score\n",
    "cm = confusion_matrix(y_test, y_pred)\n",
    "print(\"Confusion Matrix:\\n\", cm)\n",
    "\n",
    "acc = accuracy_score(y_test, y_pred)\n",
    "print(\"Accuracy:\", acc)\n",
    "\n",
    "prec = precision_score(y_test, y_pred, average='macro')\n",
    "print(\"Precision:\", prec)\n",
    "\n",
    "rec = recall_score(y_test, y_pred, average='macro')\n",
    "print(\"Recall:\", rec)\n",
    "\n",
    "f1 = f1_score(y_test, y_pred, average='macro')\n",
    "print(\"F1 Score:\", f1)"
   ]
  },
  {
   "cell_type": "code",
   "execution_count": 21,
   "metadata": {},
   "outputs": [
    {
     "name": "stdout",
     "output_type": "stream",
     "text": [
      "Confusion Matrix:\n",
      " [[12  4  0]\n",
      " [ 0  0  0]\n",
      " [ 6  5  0]]\n",
      "Accuracy: 0.4444444444444444\n"
     ]
    }
   ],
   "source": [
    "from sklearn.metrics import confusion_matrix, accuracy_score, precision_score, recall_score, f1_score\n",
    "cm = confusion_matrix(y_test, y_pred)\n",
    "print(\"Confusion Matrix:\\n\", cm)\n",
    "acc = accuracy_score(y_test, y_pred)\n",
    "print(\"Accuracy:\", acc)"
   ]
  },
  {
   "cell_type": "code",
   "execution_count": 22,
   "metadata": {},
   "outputs": [
    {
     "name": "stdout",
     "output_type": "stream",
     "text": [
      "Predicted Class: 0\n",
      "Probability Estimates: [[0.93236091 0.         0.06763909]]\n"
     ]
    }
   ],
   "source": [
    "#Apply prediction on any one sample input and print the probability estimates for each class - 1 marks\n",
    "sample = X_test.iloc[0:1] \n",
    "predicted_class = nb_classifier.predict(sample)\n",
    "print(\"Predicted Class:\", predicted_class[0])\n",
    "proba = nb_classifier.predict_proba(sample)\n",
    "print(\"Probability Estimates:\", proba)"
   ]
  },
  {
   "cell_type": "code",
   "execution_count": null,
   "metadata": {},
   "outputs": [],
   "source": []
  },
  {
   "cell_type": "code",
   "execution_count": null,
   "metadata": {},
   "outputs": [],
   "source": []
  },
  {
   "cell_type": "code",
   "execution_count": null,
   "metadata": {},
   "outputs": [],
   "source": []
  },
  {
   "cell_type": "code",
   "execution_count": null,
   "metadata": {},
   "outputs": [],
   "source": []
  },
  {
   "cell_type": "code",
   "execution_count": null,
   "metadata": {},
   "outputs": [],
   "source": []
  }
 ],
 "metadata": {
  "kernelspec": {
   "display_name": "Python 3 (ipykernel)",
   "language": "python",
   "name": "python3"
  },
  "language_info": {
   "codemirror_mode": {
    "name": "ipython",
    "version": 3
   },
   "file_extension": ".py",
   "mimetype": "text/x-python",
   "name": "python",
   "nbconvert_exporter": "python",
   "pygments_lexer": "ipython3",
   "version": "3.11.7"
  },
  "varInspector": {
   "cols": {
    "lenName": 16,
    "lenType": 16,
    "lenVar": 40
   },
   "kernels_config": {
    "python": {
     "delete_cmd_postfix": "",
     "delete_cmd_prefix": "del ",
     "library": "var_list.py",
     "varRefreshCmd": "print(var_dic_list())"
    },
    "r": {
     "delete_cmd_postfix": ") ",
     "delete_cmd_prefix": "rm(",
     "library": "var_list.r",
     "varRefreshCmd": "cat(var_dic_list()) "
    }
   },
   "types_to_exclude": [
    "module",
    "function",
    "builtin_function_or_method",
    "instance",
    "_Feature"
   ],
   "window_display": false
  }
 },
 "nbformat": 4,
 "nbformat_minor": 4
}
